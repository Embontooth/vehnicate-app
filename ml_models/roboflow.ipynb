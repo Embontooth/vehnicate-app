{
 "cells": [
  {
   "cell_type": "code",
   "execution_count": 5,
   "id": "de1fead6",
   "metadata": {},
   "outputs": [
    {
     "data": {
      "text/plain": [
       "True"
      ]
     },
     "execution_count": 5,
     "metadata": {},
     "output_type": "execute_result"
    }
   ],
   "source": [
    "from dotenv import load_dotenv\n",
    "import os\n",
    "load_dotenv()"
   ]
  },
  {
   "cell_type": "code",
   "execution_count": 8,
   "id": "562bff40",
   "metadata": {},
   "outputs": [
    {
     "name": "stdout",
     "output_type": "stream",
     "text": [
      "{'inference_id': '150a90f4-83db-41e3-8b89-34c6a1123e19', 'time': 0.7272309150000638, 'image': {'width': 1536, 'height': 1024}, 'predictions': [{'x': 1074.06640625, 'y': 590.6090698242188, 'width': 381.22216796875, 'height': 236.6728515625, 'confidence': 0.9251031875610352, 'class': 'pothole', 'class_id': 2, 'detection_id': '437540f6-9ac4-4572-b6e4-51f6b1cc7fc8'}]}\n"
     ]
    }
   ],
   "source": [
    "from inference_sdk import InferenceHTTPClient\n",
    "\n",
    "# create an inference client\n",
    "CLIENT = InferenceHTTPClient(\n",
    "    api_url=\"https://detect.roboflow.com\",\n",
    "    api_key=os.getenv('ROBOFLOW_API_KEY')\n",
    ")\n",
    "\n",
    "# run inference on a local image\n",
    "print(CLIENT.infer(\n",
    "    r\"C:\\Users\\pragy\\prototype\\ml_models\\assets\\trial4.png\", \n",
    "    model_id=\"pothole-detection-huf2x-x8ogn/3\"\n",
    "))"
   ]
  }
 ],
 "metadata": {
  "kernelspec": {
   "display_name": "main",
   "language": "python",
   "name": "python3"
  },
  "language_info": {
   "codemirror_mode": {
    "name": "ipython",
    "version": 3
   },
   "file_extension": ".py",
   "mimetype": "text/x-python",
   "name": "python",
   "nbconvert_exporter": "python",
   "pygments_lexer": "ipython3",
   "version": "3.12.3"
  }
 },
 "nbformat": 4,
 "nbformat_minor": 5
}

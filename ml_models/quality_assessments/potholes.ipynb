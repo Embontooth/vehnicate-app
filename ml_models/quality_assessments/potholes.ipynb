{
 "cells": [
  {
   "cell_type": "code",
   "execution_count": 1,
   "id": "79fc9d1a",
   "metadata": {},
   "outputs": [],
   "source": [
    "import cv2\n",
    "import os\n",
    "from ultralytics import YOLO\n",
    "import torch\n",
    "import numpy as np"
   ]
  },
  {
   "cell_type": "code",
   "execution_count": 2,
   "id": "f50958e8",
   "metadata": {},
   "outputs": [
    {
     "name": "stdout",
     "output_type": "stream",
     "text": [
      "\n",
      "image 1/1 C:\\Users\\pragy\\prototype\\ml_models\\assets\\trial12.png: 256x416 7 potholess, 83.9ms\n",
      "Speed: 16.6ms preprocess, 83.9ms inference, 321.6ms postprocess per image at shape (1, 3, 256, 416)\n"
     ]
    }
   ],
   "source": [
    "image_path = \"C:/Users/pragy/prototype/ml_models/assets/trial12.png\" \n",
    "model = YOLO(\"C:/Users/pragy/prototype/ml_models/runs/detect/train2/weights/best.pt\")\n",
    "result = model(image_path)\n",
    "annotated_image = result[0].plot()\n",
    "cv2.imshow(\"pothole\",annotated_image)\n",
    "cv2.waitKey(0)\n",
    "cv2.destroyAllWindows()"
   ]
  },
  {
   "cell_type": "code",
   "execution_count": 3,
   "id": "3039b862",
   "metadata": {},
   "outputs": [
    {
     "name": "stdout",
     "output_type": "stream",
     "text": [
      "Cropped image saved to C:\\Users\\pragy\\prototype\\ml_models\\trial_assets\\cropped_pothole_0.jpg\n",
      "Cropped image saved to C:\\Users\\pragy\\prototype\\ml_models\\trial_assets\\cropped_pothole_1.jpg\n",
      "Cropped image saved to C:\\Users\\pragy\\prototype\\ml_models\\trial_assets\\cropped_pothole_2.jpg\n",
      "Cropped image saved to C:\\Users\\pragy\\prototype\\ml_models\\trial_assets\\cropped_pothole_3.jpg\n",
      "Cropped image saved to C:\\Users\\pragy\\prototype\\ml_models\\trial_assets\\cropped_pothole_4.jpg\n",
      "Cropped image saved to C:\\Users\\pragy\\prototype\\ml_models\\trial_assets\\cropped_pothole_5.jpg\n",
      "Cropped image saved to C:\\Users\\pragy\\prototype\\ml_models\\trial_assets\\cropped_pothole_6.jpg\n"
     ]
    }
   ],
   "source": [
    "save_dir = r'C:\\Users\\pragy\\prototype\\ml_models\\trial_assets'\n",
    "os.makedirs(save_dir,exist_ok=True)\n",
    "img = cv2.imread(image_path)\n",
    "\n",
    "for i,box in enumerate(result[0].boxes.xyxy):\n",
    "    x1,y1,x2,y2 = map(int,box[:4])\n",
    "    cropped_img = img[y1+5:y2+5,x1+5:x2+5]\n",
    "\n",
    "    crop_path = os.path.join(save_dir,f\"cropped_pothole_{i}.jpg\")\n",
    "    cv2.imwrite(crop_path,cropped_img)\n",
    "    print(f\"Cropped image saved to {crop_path}\")"
   ]
  },
  {
   "cell_type": "code",
   "execution_count": 4,
   "id": "b67b8e4e",
   "metadata": {},
   "outputs": [
    {
     "name": "stdout",
     "output_type": "stream",
     "text": [
      "Pothole area: 0.2308 m²\n"
     ]
    }
   ],
   "source": [
    "image = cv2.imread(r\"C:\\Users\\pragy\\prototype\\ml_models\\trial_assets\\cropped_pothole_1.jpg\")\n",
    "gray = cv2.cvtColor(image, cv2.COLOR_BGR2GRAY)\n",
    "_, thresh = cv2.threshold(gray, 50, 255, cv2.THRESH_BINARY_INV + cv2.THRESH_OTSU)\n",
    "cv2.imshow(\"threshold\",thresh)\n",
    "cv2.waitKey(0)\n",
    "cv2.destroyAllWindows()\n",
    "\n",
    "contours, _ = cv2.findContours(thresh, cv2.RETR_EXTERNAL, cv2.CHAIN_APPROX_SIMPLE)\n",
    "largest_contour = max(contours, key=cv2.contourArea)\n",
    "area_pixels = cv2.contourArea(largest_contour)\n",
    "\n",
    "PIXEL_TO_M2 = 0.000045\n",
    "area_m2 = area_pixels * PIXEL_TO_M2\n",
    "\n",
    "print(f\"Pothole area: {area_m2:.4f} m²\")\n"
   ]
  },
  {
   "cell_type": "code",
   "execution_count": 5,
   "id": "a3ea9bb2",
   "metadata": {},
   "outputs": [
    {
     "name": "stdout",
     "output_type": "stream",
     "text": [
      "Circularity: 0.683\n",
      "Pothole shape: Oval\n"
     ]
    }
   ],
   "source": [
    "import math\n",
    "\n",
    "perimeter = cv2.arcLength(largest_contour, True)\n",
    "circularity = 4 * math.pi * area_pixels / (perimeter * perimeter)\n",
    "print(f\"Circularity: {circularity:.3f}\")\n",
    "\n",
    "if circularity > 0.85:\n",
    "    shape = \"Circle\"\n",
    "elif 0.5 < circularity <= 0.85:\n",
    "    shape = \"Oval\"\n",
    "else:\n",
    "    shape = \"Polygon or Irregular\"\n",
    "\n",
    "print(f\"Pothole shape: {shape}\")\n"
   ]
  },
  {
   "cell_type": "code",
   "execution_count": null,
   "id": "f2d7bdc2",
   "metadata": {},
   "outputs": [],
   "source": []
  }
 ],
 "metadata": {
  "kernelspec": {
   "display_name": "main",
   "language": "python",
   "name": "python3"
  },
  "language_info": {
   "codemirror_mode": {
    "name": "ipython",
    "version": 3
   },
   "file_extension": ".py",
   "mimetype": "text/x-python",
   "name": "python",
   "nbconvert_exporter": "python",
   "pygments_lexer": "ipython3",
   "version": "3.12.3"
  }
 },
 "nbformat": 4,
 "nbformat_minor": 5
}

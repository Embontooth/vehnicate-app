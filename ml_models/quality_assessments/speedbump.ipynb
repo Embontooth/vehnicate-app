{
 "cells": [
  {
   "cell_type": "code",
<<<<<<< HEAD
   "execution_count": 36,
=======
   "execution_count": 1,
>>>>>>> 17ab9b52161f30fa8ce781666365a1c50fd2ac64
   "id": "de21a35d",
   "metadata": {},
   "outputs": [],
   "source": [
<<<<<<< HEAD
    "import cv2\n",
    "import numpy as np\n",
    "import matplotlib.pyplot as plt"
=======
    "import cv2"
>>>>>>> 17ab9b52161f30fa8ce781666365a1c50fd2ac64
   ]
  },
  {
   "cell_type": "code",
<<<<<<< HEAD
   "execution_count": 43,
   "id": "e539bce0",
=======
   "execution_count": 2,
   "id": "2b1ffcc8",
>>>>>>> 17ab9b52161f30fa8ce781666365a1c50fd2ac64
   "metadata": {},
   "outputs": [],
   "source": [
    "img = cv2.imread(r\"C:\\Users\\pragy\\prototype\\ml_models\\assets\\qa_sb_1.png\")\n",
    "cv2.imshow(\"image\",img)\n",
    "cv2.waitKey(0)\n",
    "cv2.destroyAllWindows()"
   ]
  },
  {
   "cell_type": "code",
<<<<<<< HEAD
   "execution_count": null,
   "id": "e6aa8666",
=======
   "execution_count": 3,
   "id": "da689c93",
>>>>>>> 17ab9b52161f30fa8ce781666365a1c50fd2ac64
   "metadata": {},
   "outputs": [],
   "source": [
    "gray = cv2.cvtColor(img, cv2.COLOR_BGR2GRAY)\n",
    "thresh = cv2.adaptiveThreshold(gray, 255, cv2.ADAPTIVE_THRESH_GAUSSIAN_C, cv2.THRESH_BINARY, 11, 2)\n",
    "cv2.imshow(\"threshold\",thresh)\n",
    "cv2.waitKey(0)\n",
    "cv2.destroyAllWindows()\n",
    "#255,11,2"
   ]
  },
  {
   "cell_type": "code",
<<<<<<< HEAD
   "execution_count": null,
   "id": "5b6fe641",
=======
   "execution_count": 4,
   "id": "927174b1",
>>>>>>> 17ab9b52161f30fa8ce781666365a1c50fd2ac64
   "metadata": {},
   "outputs": [],
   "source": [
    "edges = cv2.Canny(gray, threshold1=50, threshold2=10)\n",
    "cv2.imshow(\"edges\",edges)\n",
    "cv2.waitKey(0)\n",
    "cv2.destroyAllWindows()\n",
<<<<<<< HEAD
    "#50,10"
   ]
=======
    "#50,10\n"
   ]
  },
  {
   "cell_type": "code",
   "execution_count": null,
   "id": "45ed2299",
   "metadata": {},
   "outputs": [],
   "source": []
>>>>>>> 17ab9b52161f30fa8ce781666365a1c50fd2ac64
  }
 ],
 "metadata": {
  "kernelspec": {
   "display_name": "main",
   "language": "python",
   "name": "python3"
  },
  "language_info": {
   "codemirror_mode": {
    "name": "ipython",
    "version": 3
   },
   "file_extension": ".py",
   "mimetype": "text/x-python",
   "name": "python",
   "nbconvert_exporter": "python",
   "pygments_lexer": "ipython3",
   "version": "3.12.3"
  }
 },
 "nbformat": 4,
 "nbformat_minor": 5
}

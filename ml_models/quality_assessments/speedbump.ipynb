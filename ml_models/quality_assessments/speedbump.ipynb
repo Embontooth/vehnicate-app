{
 "cells": [
  {
   "cell_type": "code",
   "execution_count": 36,
   "id": "de21a35d",
   "metadata": {},
   "outputs": [],
   "source": [
    "import cv2\n",
    "import numpy as np\n",
    "import matplotlib.pyplot as plt"
   ]
  },
  {
   "cell_type": "code",
   "execution_count": 43,
   "id": "e539bce0",
   "metadata": {},
   "outputs": [],
   "source": [
    "img = cv2.imread(r\"C:\\Users\\pragy\\prototype\\ml_models\\assets\\qa_sb_1.png\")\n",
    "cv2.imshow(\"image\",img)\n",
    "cv2.waitKey(0)\n",
    "cv2.destroyAllWindows()"
   ]
  },
  {
   "cell_type": "code",
   "execution_count": 44,
   "id": "e6aa8666",
   "metadata": {},
   "outputs": [],
   "source": [
    "gray = cv2.cvtColor(img, cv2.COLOR_BGR2GRAY)\n",
    "thresh = cv2.adaptiveThreshold(gray, 255, cv2.ADAPTIVE_THRESH_GAUSSIAN_C, cv2.THRESH_BINARY, 11, 2)\n",
    "cv2.imshow(\"threshold\",thresh)\n",
    "cv2.waitKey(0)\n",
    "cv2.destroyAllWindows()\n",
    "#255,11,2"
   ]
  },
  {
   "cell_type": "code",
   "execution_count": 45,
   "id": "5b6fe641",
   "metadata": {},
   "outputs": [],
   "source": [
    "edges = cv2.Canny(gray, threshold1=50, threshold2=10)\n",
    "cv2.imshow(\"edges\",edges)\n",
    "cv2.waitKey(0)\n",
    "cv2.destroyAllWindows()\n",
    "#50,10"
   ]
  },
  {
   "cell_type": "code",
   "execution_count": null,
   "id": "d1f4111a",
   "metadata": {},
   "outputs": [
    {
     "name": "stdout",
     "output_type": "stream",
     "text": [
      "\n",
      "image 1/1 C:\\Users\\pragy\\prototype\\ml_models\\assets\\image.png: 320x640 2 traffic_lights, 53.7ms\n",
      "Speed: 2.8ms preprocess, 53.7ms inference, 7.7ms postprocess per image at shape (1, 3, 320, 640)\n"
     ]
    }
   ],
   "source": [
    "from ultralytics import YOLO\n",
    "\n",
    "model = YOLO(r\"C:\\Users\\pragy\\Downloads\\best-final.pt\")\n",
    "results = model(r\"C:\\Users\\pragy\\prototype\\ml_models\\assets\\image.png\")\n",
    "results[0].show()  \n"
   ]
  }
 ],
 "metadata": {
  "kernelspec": {
   "display_name": "main",
   "language": "python",
   "name": "python3"
  },
  "language_info": {
   "codemirror_mode": {
    "name": "ipython",
    "version": 3
   },
   "file_extension": ".py",
   "mimetype": "text/x-python",
   "name": "python",
   "nbconvert_exporter": "python",
   "pygments_lexer": "ipython3",
   "version": "3.12.3"
  }
 },
 "nbformat": 4,
 "nbformat_minor": 5
}
